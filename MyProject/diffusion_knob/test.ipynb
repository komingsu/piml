{
 "cells": [
  {
   "cell_type": "code",
   "execution_count": 2,
   "metadata": {},
   "outputs": [
    {
     "data": {
      "text/plain": [
       "True"
      ]
     },
     "execution_count": 2,
     "metadata": {},
     "output_type": "execute_result"
    }
   ],
   "source": [
    "import torch\n",
    "import torch.nn as nn\n",
    "import torch.nn.functional as F\n",
    "\n",
    "torch.cuda.is_available()"
   ]
  },
  {
   "cell_type": "code",
   "execution_count": 8,
   "metadata": {},
   "outputs": [
    {
     "data": {
      "text/plain": [
       "Parameter containing:\n",
       "tensor([1., 1., 1., 1., 1., 1., 1., 1., 1., 1., 1., 1., 1., 1., 1., 1., 1., 1.,\n",
       "        1., 1., 1., 1., 1., 1., 1., 1., 1., 1., 1., 1.], requires_grad=True)"
      ]
     },
     "execution_count": 8,
     "metadata": {},
     "output_type": "execute_result"
    }
   ],
   "source": [
    "class LoRaLayer(nn.Module):\n",
    "    def __init__(self, input_dim, output_dim, rank):\n",
    "        super(LoRaLayer, self).__init__()\n",
    "        self.U = nn.Parameter(torch.randn(input_dim, rank))\n",
    "        self.V = nn.Parameter(torch.randn(rank, output_dim))\n",
    "        # 대각 요소만 학습 가능하게 설정\n",
    "        self.S_values = nn.Parameter(torch.ones(rank))  # 초기값을 1로 설정\n",
    "\n",
    "    def forward(self, x):\n",
    "        # 학습 가능한 대각 요소를 이용해 대각 행렬 S 생성\n",
    "        S = torch.diag(self.S_values)\n",
    "        weight = torch.mm(self.U, torch.mm(S, self.V))\n",
    "        return torch.mm(x, weight)\n",
    "    \n",
    "lr_layer = LoRaLayer(64, 64, 30)\n",
    "lr_layer.S_values"
   ]
  },
  {
   "cell_type": "code",
   "execution_count": null,
   "metadata": {},
   "outputs": [],
   "source": [
    "class HyperNetwork(nn.Module):\n",
    "    def __init__(self, num_coefficients, num_layers, rank):\n",
    "        super(HyperNetwork, self).__init__()\n",
    "        self.num_layers = num_layers\n",
    "        self.rank = rank\n",
    "        # HyperNetwork는 PDE 계수에 따라 각 LoRaLayer의 S 대각 요소를 생성\n",
    "        self.fc_hyper = nn.Linear(num_coefficients, num_layers * rank)\n",
    "    \n",
    "    def forward(self, coefficients):\n",
    "        # coefficients는 PDE의 계수\n",
    "        diag_elements = self.fc_hyper(coefficients)\n",
    "        # 각 LoRaLayer에 대한 대각 요소를 반환\n",
    "        return diag_elements.view(self.num_layers, self.rank)"
   ]
  }
 ],
 "metadata": {
  "kernelspec": {
   "display_name": "torch",
   "language": "python",
   "name": "python3"
  },
  "language_info": {
   "codemirror_mode": {
    "name": "ipython",
    "version": 3
   },
   "file_extension": ".py",
   "mimetype": "text/x-python",
   "name": "python",
   "nbconvert_exporter": "python",
   "pygments_lexer": "ipython3",
   "version": "3.11.9"
  }
 },
 "nbformat": 4,
 "nbformat_minor": 2
}
