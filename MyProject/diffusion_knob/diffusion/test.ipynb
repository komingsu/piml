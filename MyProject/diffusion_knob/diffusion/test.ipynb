{
 "cells": [
  {
   "cell_type": "code",
   "execution_count": 1,
   "metadata": {},
   "outputs": [],
   "source": [
    "import pandas as pd\n",
    "import numpy as np"
   ]
  },
  {
   "cell_type": "code",
   "execution_count": 2,
   "metadata": {},
   "outputs": [],
   "source": [
    "\"\"\"\n",
    "This file is to encode SMILES into one-hot encodings\n",
    "\"\"\"\n",
    "\n",
    "import numpy as np\n",
    "\n",
    "from tqdm import tqdm\n",
    "from torch.utils.data import Dataset, DataLoader\n",
    "\n",
    "\n",
    "class SMILESWithPropertiesDataset(Dataset):\n",
    "    def __init__(self, smiles_encodings, properties):\n",
    "        self.smiles_encodings = smiles_encodings\n",
    "        self.properties = properties\n",
    "\n",
    "    def __len__(self):\n",
    "        return len(self.smiles_encodings)\n",
    "\n",
    "    def __getitem__(self, idx):\n",
    "        return self.smiles_encodings[idx], self.properties[idx]\n",
    "    \n",
    "\n",
    "def smile_to_hot(smile, largest_smile_len, alphabet):\n",
    "    \"\"\"Go from a single smile string to a one-hot encoding.\n",
    "    \"\"\"\n",
    "\n",
    "    char_to_int = dict((c, i) for i, c in enumerate(alphabet))\n",
    "\n",
    "    # pad with ' '\n",
    "    smile += ' ' * (largest_smile_len - len(smile))\n",
    "\n",
    "    # integer encode input smile\n",
    "    integer_encoded = [char_to_int[char] for char in smile]\n",
    "\n",
    "    # one hot-encode input smile\n",
    "    onehot_encoded = list()\n",
    "    for value in integer_encoded:\n",
    "        letter = [0 for _ in range(len(alphabet))]\n",
    "        letter[value] = 1\n",
    "        onehot_encoded.append(letter)\n",
    "    return integer_encoded, np.array(onehot_encoded)\n",
    "\n",
    "\n",
    "def multiple_smile_to_hot(smiles_list, largest_molecule_len, alphabet):\n",
    "    \"\"\"Convert a list of smile strings to a one-hot encoding\n",
    "\n",
    "    Returned shape (num_smiles x len_of_largest_smile x len_smile_encoding)\n",
    "    \"\"\"\n",
    "\n",
    "    hot_list = []\n",
    "    for s in tqdm(smiles_list, desc=\"Encoding SMILES\"):  \n",
    "        _, onehot_encoded = smile_to_hot(s, largest_molecule_len, alphabet)\n",
    "        hot_list.append(onehot_encoded)\n",
    "    return np.array(hot_list)"
   ]
  },
  {
   "cell_type": "code",
   "execution_count": 3,
   "metadata": {},
   "outputs": [],
   "source": [
    "def get_smiles_encodings_for_dataset(file_path):\n",
    "    \"\"\"\n",
    "    Returns encoding, alphabet and length of largest molecule in SMILES, \n",
    "    given a file containing SMILES molecules.\n",
    "\n",
    "    input:\n",
    "        csv file with molecules. Column's name must be 'smiles'.\n",
    "    output:\n",
    "        - smiles encoding (equivalent to file content)\n",
    "        - smiles alphabet (character based)\n",
    "        - longest smiles string\n",
    "    \"\"\"\n",
    "\n",
    "    df = pd.read_csv(file_path)\n",
    "\n",
    "    smiles_list = np.asanyarray(df.smiles)\n",
    "\n",
    "    smiles_alphabet = list(set(''.join(smiles_list)))\n",
    "    smiles_alphabet.append(' ')  # for padding\n",
    "\n",
    "    largest_smiles_len = len(max(smiles_list, key=len))\n",
    "\n",
    "    return smiles_list, smiles_alphabet, largest_smiles_len"
   ]
  },
  {
   "cell_type": "code",
   "execution_count": 4,
   "metadata": {},
   "outputs": [],
   "source": [
    "file_path = './dataJ_250k_rndm_zinc_drugs_clean.txt'\n",
    "\n",
    "encoding_list, encoding_alphabet, largest_molecule_len = get_smiles_encodings_for_dataset(file_path)"
   ]
  },
  {
   "cell_type": "code",
   "execution_count": 5,
   "metadata": {},
   "outputs": [
    {
     "name": "stderr",
     "output_type": "stream",
     "text": [
      "Encoding SMILES: 100%|██████████| 249456/249456 [01:11<00:00, 3489.72it/s]\n"
     ]
    }
   ],
   "source": [
    "data = multiple_smile_to_hot(encoding_list, largest_molecule_len, encoding_alphabet)"
   ]
  },
  {
   "cell_type": "code",
   "execution_count": 6,
   "metadata": {},
   "outputs": [
    {
     "data": {
      "text/plain": [
       "(249456, 120, 35)"
      ]
     },
     "execution_count": 6,
     "metadata": {},
     "output_type": "execute_result"
    }
   ],
   "source": [
    "data.shape"
   ]
  },
  {
   "cell_type": "code",
   "execution_count": 10,
   "metadata": {},
   "outputs": [
    {
     "data": {
      "text/plain": [
       "array([[0, 0, 0, ..., 0, 1, 0],\n",
       "       [0, 0, 0, ..., 0, 1, 0],\n",
       "       [0, 0, 0, ..., 0, 0, 0],\n",
       "       ...,\n",
       "       [0, 0, 0, ..., 0, 0, 1],\n",
       "       [0, 0, 0, ..., 0, 0, 1],\n",
       "       [0, 0, 0, ..., 0, 0, 1]])"
      ]
     },
     "execution_count": 10,
     "metadata": {},
     "output_type": "execute_result"
    }
   ],
   "source": [
    "data[:10,:,:][0]"
   ]
  },
  {
   "cell_type": "code",
   "execution_count": null,
   "metadata": {},
   "outputs": [],
   "source": []
  }
 ],
 "metadata": {
  "kernelspec": {
   "display_name": "binding-affinity",
   "language": "python",
   "name": "python3"
  },
  "language_info": {
   "codemirror_mode": {
    "name": "ipython",
    "version": 3
   },
   "file_extension": ".py",
   "mimetype": "text/x-python",
   "name": "python",
   "nbconvert_exporter": "python",
   "pygments_lexer": "ipython3",
   "version": "3.9.19"
  }
 },
 "nbformat": 4,
 "nbformat_minor": 2
}
