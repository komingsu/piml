{
 "cells": [
  {
   "cell_type": "code",
   "execution_count": 1,
   "id": "52915f23-a226-4a7b-a706-d612bc47b145",
   "metadata": {
    "tags": []
   },
   "outputs": [],
   "source": [
    "import torch"
   ]
  },
  {
   "cell_type": "code",
   "execution_count": 12,
   "id": "d8551c3c-ef3f-4746-b918-13ecfa36e0fd",
   "metadata": {
    "tags": []
   },
   "outputs": [],
   "source": [
    "import torch\n",
    "import torch.nn as nn\n",
    "import torch.nn.functional as F\n",
    "\n",
    "\n",
    "class NN(nn.Module):\n",
    "    def __init__(self):\n",
    "        super(NN, self).__init__()\n",
    "        self.fc1 = nn.Linear(4, 4*16)\n",
    "        \n",
    "    def forward(self, x):\n",
    "        x = torch.tanh(self.fc1(x))\n",
    "        return x"
   ]
  },
  {
   "cell_type": "code",
   "execution_count": 13,
   "id": "7e200aed-70f1-4a67-83bb-2eeb4a04ca94",
   "metadata": {
    "tags": []
   },
   "outputs": [],
   "source": [
    "net = NN()"
   ]
  },
  {
   "cell_type": "code",
   "execution_count": 17,
   "id": "666d8008-36f5-4931-9e2f-420f6ba70218",
   "metadata": {
    "tags": []
   },
   "outputs": [
    {
     "data": {
      "text/plain": [
       "tensor([-2.8548e-01, -3.3506e-01,  1.1201e-01,  1.3434e-01, -2.2895e-01,\n",
       "        -6.9526e-02,  1.7085e-01,  3.9056e-01, -2.2081e-01,  1.5396e-01,\n",
       "         1.5745e-01, -4.4049e-01, -4.3918e-01, -1.1114e-01,  2.5098e-01,\n",
       "         3.4994e-01, -8.4064e-02,  4.4153e-01, -1.5923e-01, -3.1332e-01,\n",
       "         3.6705e-01,  1.9247e-01, -4.1454e-01, -1.3708e-02, -1.9758e-01,\n",
       "        -3.5723e-01,  1.4496e-01,  2.5836e-01, -2.4605e-01, -4.3521e-01,\n",
       "         4.0144e-01, -1.6600e-01,  1.3900e-01,  3.8845e-01, -3.1449e-01,\n",
       "        -4.5142e-01, -3.5422e-01,  3.1108e-01,  3.0139e-01,  1.5890e-01,\n",
       "         3.4249e-01,  7.6208e-02, -2.7937e-04, -8.9659e-02,  3.8941e-01,\n",
       "        -2.6843e-02, -2.6058e-02,  2.8539e-01, -1.9155e-01,  4.2469e-01,\n",
       "         2.6885e-02, -2.2752e-02, -3.7243e-02,  4.4193e-01, -9.0125e-02,\n",
       "         1.3546e-01,  2.9197e-01, -3.6427e-01,  2.9219e-01,  3.6182e-01,\n",
       "        -3.8856e-01, -2.0532e-01,  3.0626e-01,  2.2935e-02],\n",
       "       grad_fn=<TanhBackward0>)"
      ]
     },
     "execution_count": 17,
     "metadata": {},
     "output_type": "execute_result"
    }
   ],
   "source": [
    "net(torch.zeros(4)).view"
   ]
  },
  {
   "cell_type": "code",
   "execution_count": 33,
   "id": "0d208a99-97f3-48f3-9874-ecb93e6c778e",
   "metadata": {
    "tags": []
   },
   "outputs": [
    {
     "data": {
      "text/plain": [
       "tensor([[0.4278, 0.3261, 0.8366, 0.4642, 0.6047, 0.4607, 0.9624, 0.3084, 0.8195,\n",
       "         0.2599, 0.2247, 0.8841, 0.9477, 0.5429, 0.0864, 0.3135],\n",
       "        [0.5996, 0.2194, 0.7162, 0.3931, 0.5029, 0.6375, 0.3330, 0.0021, 0.1221,\n",
       "         0.1053, 0.7523, 0.1677, 0.3969, 0.1002, 0.6834, 0.0518],\n",
       "        [0.8961, 0.0206, 0.7432, 0.2194, 0.3441, 0.7970, 0.7523, 0.9652, 0.7518,\n",
       "         0.0156, 0.4749, 0.9756, 0.9937, 0.8895, 0.5849, 0.8206],\n",
       "        [0.2938, 0.2421, 0.8679, 0.7533, 0.7389, 0.5066, 0.1513, 0.4355, 0.9659,\n",
       "         0.4974, 0.7601, 0.2327, 0.9719, 0.7561, 0.3328, 0.8746]])"
      ]
     },
     "execution_count": 33,
     "metadata": {},
     "output_type": "execute_result"
    }
   ],
   "source": [
    "sample = torch.rand(4,16)\n",
    "sample"
   ]
  },
  {
   "cell_type": "code",
   "execution_count": 35,
   "id": "e9cbe577-a999-4f53-ad28-302beb7cd463",
   "metadata": {
    "tags": []
   },
   "outputs": [
    {
     "data": {
      "text/plain": [
       "tensor([[0.4278, 0.3261, 0.8366, 0.4642, 0.6047, 0.4607, 0.9624, 0.3084, 0.8195,\n",
       "         0.2599, 0.2247, 0.8841, 0.9477, 0.5429, 0.0864, 0.3135],\n",
       "        [0.5996, 0.2194, 0.7162, 0.3931, 0.5029, 0.6375, 0.3330, 0.0021, 0.1221,\n",
       "         0.1053, 0.7523, 0.1677, 0.3969, 0.1002, 0.6834, 0.0518],\n",
       "        [0.8961, 0.0206, 0.7432, 0.2194, 0.3441, 0.7970, 0.7523, 0.9652, 0.7518,\n",
       "         0.0156, 0.4749, 0.9756, 0.9937, 0.8895, 0.5849, 0.8206],\n",
       "        [0.2938, 0.2421, 0.8679, 0.7533, 0.7389, 0.5066, 0.1513, 0.4355, 0.9659,\n",
       "         0.4974, 0.7601, 0.2327, 0.9719, 0.7561, 0.3328, 0.8746]])"
      ]
     },
     "execution_count": 35,
     "metadata": {},
     "output_type": "execute_result"
    }
   ],
   "source": [
    "sample = sample.view(4,1,16).view(-1,16)\n",
    "sample"
   ]
  },
  {
   "cell_type": "code",
   "execution_count": 52,
   "id": "dc9538e4-c674-49cf-ab33-2859b53d3cf8",
   "metadata": {
    "tags": []
   },
   "outputs": [
    {
     "data": {
      "text/plain": [
       "tensor([[0.0000, 0.0000, 0.0000, 0.0000, 0.0000, 0.0000, 0.0000, 0.0000, 0.0000,\n",
       "         0.0000, 0.0000, 0.0000, 0.0000, 0.0000, 0.0000, 0.0000],\n",
       "        [0.4278, 0.3261, 0.8366, 0.4642, 0.6047, 0.4607, 0.9624, 0.3084, 0.8195,\n",
       "         0.2599, 0.2247, 0.8841, 0.9477, 0.5429, 0.0864, 0.3135],\n",
       "        [0.5996, 0.2194, 0.7162, 0.3931, 0.5029, 0.6375, 0.3330, 0.0021, 0.1221,\n",
       "         0.1053, 0.7523, 0.1677, 0.3969, 0.1002, 0.6834, 0.0518],\n",
       "        [0.8961, 0.0206, 0.7432, 0.2194, 0.3441, 0.7970, 0.7523, 0.9652, 0.7518,\n",
       "         0.0156, 0.4749, 0.9756, 0.9937, 0.8895, 0.5849, 0.8206],\n",
       "        [0.2938, 0.2421, 0.8679, 0.7533, 0.7389, 0.5066, 0.1513, 0.4355, 0.9659,\n",
       "         0.4974, 0.7601, 0.2327, 0.9719, 0.7561, 0.3328, 0.8746]])"
      ]
     },
     "execution_count": 52,
     "metadata": {},
     "output_type": "execute_result"
    }
   ],
   "source": [
    "x = torch.zeros(1,16)\n",
    "torch.concat([x, sample])"
   ]
  },
  {
   "cell_type": "code",
   "execution_count": 48,
   "id": "a22f29e8-b4b1-4596-8e44-b9236e49c2f0",
   "metadata": {
    "tags": []
   },
   "outputs": [
    {
     "data": {
      "text/plain": [
       "tensor([[[0.],\n",
       "         [0.],\n",
       "         [0.],\n",
       "         [0.]]])"
      ]
     },
     "execution_count": 48,
     "metadata": {},
     "output_type": "execute_result"
    }
   ],
   "source": []
  },
  {
   "cell_type": "code",
   "execution_count": null,
   "id": "72e45d18-f9f5-4f83-a8b7-0e83e1ba52e5",
   "metadata": {},
   "outputs": [],
   "source": []
  }
 ],
 "metadata": {
  "kernelspec": {
   "display_name": "Python 3 (ipykernel)",
   "language": "python",
   "name": "python3"
  },
  "language_info": {
   "codemirror_mode": {
    "name": "ipython",
    "version": 3
   },
   "file_extension": ".py",
   "mimetype": "text/x-python",
   "name": "python",
   "nbconvert_exporter": "python",
   "pygments_lexer": "ipython3",
   "version": "3.8.10"
  }
 },
 "nbformat": 4,
 "nbformat_minor": 5
}
