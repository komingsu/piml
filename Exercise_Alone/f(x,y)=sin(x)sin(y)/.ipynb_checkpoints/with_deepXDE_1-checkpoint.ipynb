{
 "cells": [
  {
   "cell_type": "code",
   "execution_count": 2,
   "id": "ad268e47-6680-45ec-94e9-a3c899d73c23",
   "metadata": {
    "tags": []
   },
   "outputs": [],
   "source": [
    "import deepxde as dde\n",
    "import numpy as np\n",
    "from deepxde.backend import tf\n",
    "import matplotlib.pyplot as plt"
   ]
  },
  {
   "cell_type": "markdown",
   "id": "55ea75d2-468d-4685-a77c-5f7cf49ff7ee",
   "metadata": {
    "tags": []
   },
   "source": [
    "아래의 함수를 근사화 해보자\n",
    "# 문제정의\n",
    "$$f(x,y) = \\sin(x) * \\sin(y)$$"
   ]
  },
  {
   "cell_type": "markdown",
   "id": "c9e4b355-b56f-4d08-bfee-d4e339212c53",
   "metadata": {},
   "source": [
    "# 구현"
   ]
  },
  {
   "cell_type": "code",
   "execution_count": 3,
   "id": "50f88236-bd09-4f3e-9066-3b8b4db28518",
   "metadata": {
    "tags": []
   },
   "outputs": [],
   "source": [
    "# General parameters\n",
    "n = 2\n",
    "precision_train = 10\n",
    "precision_test = 30\n",
    "hard_constraint = True\n",
    "weights = 100  # if hard_constraint == False\n",
    "iterations = 5000\n",
    "parameters = [1e-3, 3, 150, \"sin\"]\n",
    "sin = tf.sin"
   ]
  },
  {
   "cell_type": "code",
   "execution_count": 4,
   "id": "1765e6f2-6a8c-4ab0-82a3-3b2145909d6b",
   "metadata": {
    "tags": []
   },
   "outputs": [],
   "source": [
    "def func(x,y):\n",
    "    \"\"\"\n",
    "    x: array_like, N x D_in\n",
    "    y: array_like, M x D_in\n",
    "    f: array_like, NxM x D_out\n",
    "    \"\"\"\n",
    "    return np.sin(x) * np.sin(y)\n",
    "\n",
    "def ode(t, y):\n",
    "    dy_dt = dde.grad.jacobian(y, t)\n",
    "    d2y_dt2 = dde.grad.hessian(y, t)\n",
    "    return d2y_dt2 - 10 * dy_dt + 9 * y - 5 * t\n",
    "\n",
    "def pde(x, y):\n",
    "    dy_xx = dde.grad.hessian(y, x, i=0, j=0)\n",
    "    dy_yy = dde.grad.hessian(y, x, i=1, j=1)\n",
    "\n",
    "    f = k0 ** 2 * sin(k0 * x[:, 0:1]) * sin(k0 * x[:, 1:2])\n",
    "    return -dy_xx - dy_yy - k0 ** 2 * y - "
   ]
  },
  {
   "cell_type": "code",
   "execution_count": 5,
   "id": "2408347f-0ea4-42c1-bec2-5c5e48290920",
   "metadata": {
    "tags": []
   },
   "outputs": [],
   "source": [
    "learning_rate, num_dense_layers, num_dense_nodes, activation = parameters\n",
    "geom = dde.geometry.Rectangle([-np.pi, -np.pi], [np.pi, np.pi])"
   ]
  },
  {
   "cell_type": "code",
   "execution_count": null,
   "id": "04bfe144-4439-4a3a-9fb2-fcda5e830453",
   "metadata": {},
   "outputs": [],
   "source": [
    "\"\"\"Backend supported: tensorflow.compat.v1, tensorflow, pytorch, paddle\"\"\"\n",
    "import deepxde as dde\n",
    "import numpy as np\n",
    "\n",
    "\n",
    "def ode(t, y):\n",
    "    dy_dt = dde.grad.jacobian(y, t)\n",
    "    d2y_dt2 = dde.grad.hessian(y, t)\n",
    "    return d2y_dt2 - 10 * dy_dt + 9 * y - 5 * t\n",
    "\n",
    "\n",
    "def func(t):\n",
    "    return 50 / 81 + t * 5 / 9 - 2 * np.exp(t) + (31 / 81) * np.exp(9 * t)\n",
    "\n",
    "\n",
    "geom = dde.geometry.TimeDomain(0, 0.25)\n",
    "\n",
    "\n",
    "def boundary_l(t, on_initial):\n",
    "    return on_initial and dde.utils.isclose(t[0], 0)\n",
    "\n",
    "\n",
    "def bc_func1(inputs, outputs, X):\n",
    "    return outputs + 1\n",
    "\n",
    "\n",
    "def bc_func2(inputs, outputs, X):\n",
    "    return dde.grad.jacobian(outputs, inputs, i=0, j=None) - 2\n",
    "\n",
    "\n",
    "ic1 = dde.icbc.IC(geom, lambda x: -1, lambda _, on_initial: on_initial)\n",
    "ic2 = dde.icbc.OperatorBC(geom, bc_func2, boundary_l)\n",
    "\n",
    "data = dde.data.TimePDE(geom, ode, [ic1, ic2], 16, 2, solution=func, num_test=500)\n",
    "layer_size = [1] + [50] * 3 + [1]\n",
    "activation = \"tanh\"\n",
    "initializer = \"Glorot uniform\"\n",
    "net = dde.nn.FNN(layer_size, activation, initializer)\n",
    "\n",
    "model = dde.Model(data, net)\n",
    "model.compile(\n",
    "    \"adam\", lr=0.001, metrics=[\"l2 relative error\"], loss_weights=[0.01, 1, 1]\n",
    ")\n",
    "losshistory, train_state = model.train(iterations=10000)\n",
    "\n",
    "dde.saveplot(losshistory, train_state, issave=True, isplot=True)"
   ]
  }
 ],
 "metadata": {
  "kernelspec": {
   "display_name": "Python 3 (ipykernel)",
   "language": "python",
   "name": "python3"
  },
  "language_info": {
   "codemirror_mode": {
    "name": "ipython",
    "version": 3
   },
   "file_extension": ".py",
   "mimetype": "text/x-python",
   "name": "python",
   "nbconvert_exporter": "python",
   "pygments_lexer": "ipython3",
   "version": "3.8.10"
  }
 },
 "nbformat": 4,
 "nbformat_minor": 5
}
