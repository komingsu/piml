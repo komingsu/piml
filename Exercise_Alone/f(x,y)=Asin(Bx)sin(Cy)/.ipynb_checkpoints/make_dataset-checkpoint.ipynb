{
 "cells": [
  {
   "cell_type": "markdown",
   "id": "deb17e11-7115-4213-947b-67275ec16c41",
   "metadata": {},
   "source": [
    "## Make_dataset\n",
    "\n",
    "* Task를 샘플링한다.\n",
    "    * A는 0.5 ~ 2의 범위, B와 C는 1 ~ 3의 범위\n",
    "    * 총 Task는 20개\n",
    "    * 각 Task별로 5000개의 데이터를 사용한다."
   ]
  },
  {
   "cell_type": "code",
   "execution_count": 14,
   "id": "5dc2f85f-3aab-42c0-ac3b-247714a1f353",
   "metadata": {
    "tags": []
   },
   "outputs": [],
   "source": [
    "import numpy as np\n",
    "import pyDOE\n",
    "import matplotlib.pyplot as plt\n",
    "from glob import glob\n",
    "\n",
    "## Governing equation\n",
    "def func1(x,y,a=1,b=1,c=1):\n",
    "    return a*np.sin(b*x)*np.sin(c*y)\n",
    "\n",
    "## Task sampling\n",
    "Task_sampling = pyDOE.lhs(3, samples=20)\n",
    "A_sampling = 1.0+(Task_sampling.T[0])*10\n",
    "B_sampling = 0.5+(Task_sampling.T[1])*1.5\n",
    "C_sampling = 0.5+(Task_sampling.T[2])*1.5\n",
    "Task_sampling = np.stack([A_sampling,B_sampling,C_sampling],axis=1)"
   ]
  },
  {
   "cell_type": "code",
   "execution_count": 15,
   "id": "6414097d-212e-4e94-a56b-6050ef8d0ed2",
   "metadata": {
    "tags": []
   },
   "outputs": [
    {
     "data": {
      "image/png": "[encoded data removed]",
      "text/plain": [
       "<Figure size 1000x300 with 2 Axes>"
      ]
     },
     "metadata": {},
     "output_type": "display_data"
    }
   ],
   "source": [
    "# Creating figure\n",
    "color_list = [\"red\", \"blue\", \"green\"]\n",
    "# Creating plot\n",
    "fig = plt.figure(figsize=(10,3))\n",
    "wf = fig.add_subplot(111, projection='3d')\n",
    "x = Task_sampling.T[0]\n",
    "y = Task_sampling.T[1]\n",
    "f = Task_sampling.T[2]\n",
    "wf.scatter3D(x, y, f, color = \"r\", alpha=0.8)\n",
    "wf.view_init(90, 0)\n",
    "\n",
    "wf = fig.add_subplot(122, projection='3d')\n",
    "x = Task_sampling.T[0]\n",
    "y = Task_sampling.T[1]\n",
    "f = Task_sampling.T[2]\n",
    "wf.scatter3D(x, y, f, color = \"r\", alpha=0.8)\n",
    "wf.view_init(0, 90)\n",
    "plt.show()"
   ]
  },
  {
   "cell_type": "code",
   "execution_count": 16,
   "id": "5b943b2c-5559-4503-9e3a-e06a719863ea",
   "metadata": {
    "tags": []
   },
   "outputs": [],
   "source": [
    "for idx, Task in enumerate(Task_sampling):\n",
    "    # 각 Task 별로 -pi ~ pi 사이의 (x,y) 데이터 5000개 생성\n",
    "    sample_data = pyDOE.lhs(2, samples=5000)\n",
    "    sample_data -= 0.5\n",
    "    sample_data *= 2 * np.pi\n",
    "    result = np.array([func1(i[0],i[1],a=Task[0],b=Task[1],c=Task[2]) for i in sample_data])\n",
    "    train_data = np.concatenate([sample_data, result[:,None]], axis=1)\n",
    "    with open(f'./data/train_{str(Task[0])}_{str(Task[1])}_{str(Task[2])}_.npy', 'wb') as f:\n",
    "        np.save(f, train_data)\n",
    "    f.close()"
   ]
  },
  {
   "cell_type": "markdown",
   "id": "05702a74-732a-426b-b466-b356bc9850ff",
   "metadata": {},
   "source": [
    "1개로 합치기"
   ]
  },
  {
   "cell_type": "code",
   "execution_count": 17,
   "id": "bb992e6c-0eff-4e3e-b2cf-b1c1e3d0e44b",
   "metadata": {
    "tags": []
   },
   "outputs": [
    {
     "name": "stdout",
     "output_type": "stream",
     "text": [
      "training with A:8.699190304131221 B:1.449305472117908 C:1.935093184791444\n",
      "training with A:1.1896125414037138 B:1.2572181693933429 C:1.2429004455878134\n",
      "training with A:3.759310760442771 B:0.9438425692038256 C:1.4702887698069853\n",
      "training with A:10.962882396148235 B:1.1125670252019888 C:1.8355924130880068\n",
      "training with A:1.7257650626311851 B:1.2187095493698712 C:0.6006058192521395\n",
      "training with A:6.534951127579366 B:1.5203671954821054 C:1.493176202788218\n",
      "training with A:10.142344733951317 B:1.6084247738695439 C:0.9346932244762214\n",
      "training with A:4.1051898992618305 B:0.7021835432252939 C:0.845799630744476\n",
      "training with A:6.174071483217903 B:1.687021403790605 C:0.5317590281216338\n",
      "training with A:5.847672217138587 B:0.7870813793341058 C:1.7064651303090588\n",
      "training with A:8.038392781656057 B:1.899017208176388 C:1.8503959460352448\n",
      "training with A:7.226668194048743 B:0.5405483570124734 C:0.7741452125453793\n",
      "training with A:2.675556154956786 B:1.8416392077086408 C:1.3056286169717548\n",
      "training with A:4.880795915862427 B:0.854395841914981 C:1.0814472954124463\n",
      "training with A:9.133685219955533 B:0.9802374272308578 C:1.1582383539822039\n",
      "training with A:2.3940719249597993 B:1.067148059628147 C:1.6603166252981045\n",
      "training with A:5.033845384892791 B:1.987453006944407 C:0.6936595779420104\n",
      "training with A:3.2514035253372606 B:0.6127192326015821 C:1.5870561566598802\n",
      "training with A:7.56821178668748 B:1.3706926260004129 C:1.3287041194785785\n",
      "training with A:9.551180740770496 B:1.706294439400953 C:0.9975569368776893\n"
     ]
    }
   ],
   "source": [
    "tasks = glob(\"./data/*_.npy\")\n",
    "data_list = []\n",
    "for task in tasks:\n",
    "    ABC = task.split(\"_\")[1:4]\n",
    "    print(f\"training with A:{ABC[0]} B:{ABC[1]} C:{ABC[2]}\")\n",
    "    A = np.array(ABC[0], dtype=np.float64)\n",
    "    B = np.array(ABC[1], dtype=np.float64)\n",
    "    C = np.array(ABC[2], dtype=np.float64)\n",
    "\n",
    "    # 데이터를 준비합니다.\n",
    "    with open(tasks[0], 'rb') as f: \n",
    "        data = np.load(f,allow_pickle=True)\n",
    "\n",
    "    AA = A.reshape(-1,1).repeat(5000,0)\n",
    "    BB = B.reshape(-1,1).repeat(5000,0)\n",
    "    CC = C.reshape(-1,1).repeat(5000,0)    \n",
    "\n",
    "    new_data = np.concatenate([data, AA, BB, CC], axis=1)\n",
    "    data_list.append(new_data)\n",
    "concat_data = np.concatenate(data_list, axis=0)\n",
    "\n",
    "with open(f'./data/trainXYFABC.npy', 'wb') as f:\n",
    "    np.save(f, concat_data)\n",
    "f.close()"
   ]
  },
  {
   "cell_type": "code",
   "execution_count": null,
   "id": "a069d721-348c-4ce3-9715-74bcc2a5f15f",
   "metadata": {},
   "outputs": [],
   "source": []
  }
 ],
 "metadata": {
  "kernelspec": {
   "display_name": "Python 3 (ipykernel)",
   "language": "python",
   "name": "python3"
  },
  "language_info": {
   "codemirror_mode": {
    "name": "ipython",
    "version": 3
   },
   "file_extension": ".py",
   "mimetype": "text/x-python",
   "name": "python",
   "nbconvert_exporter": "python",
   "pygments_lexer": "ipython3",
   "version": "3.8.10"
  }
 },
 "nbformat": 4,
 "nbformat_minor": 5
}
