{
 "cells": [
  {
   "cell_type": "code",
   "execution_count": 1,
   "metadata": {},
   "outputs": [],
   "source": [
    "import itertools\n",
    "from Tri_777_newgrid import PINNModel\n",
    "import pandas as pd\n",
    "import itertools\n",
    "import os\n",
    "os.environ['KMP_DUPLICATE_LIB_OK'] = 'TRUE'\n",
    "\n",
    "import torch\n",
    "\n",
    "# 실험 범위 설정\n",
    "A_range = [1, 7, 13]\n",
    "B_range = [2, 7, 12]\n",
    "C_range = [3, 7, 11]\n",
    "\n",
    "# 실험 조합 생성\n",
    "experiments = list(itertools.product(A_range, B_range, C_range))\n",
    "\n",
    "# # 실험 범위 설정\n",
    "# A_range = [1, 5, 10, 15]\n",
    "# B_range = [4, 6, 8, 10]\n",
    "# C_range = [3, 5, 7, 9]\n",
    "\n",
    "# # 실험 조합 생성\n",
    "# experiments = list(itertools.product(A_range, B_range, C_range))"
   ]
  },
  {
   "cell_type": "code",
   "execution_count": 2,
   "metadata": {},
   "outputs": [
    {
     "data": {
      "text/plain": [
       "(2, device(type='cuda', index=0))"
      ]
     },
     "execution_count": 2,
     "metadata": {},
     "output_type": "execute_result"
    }
   ],
   "source": [
    "# Check the number of available GPUs\n",
    "num_gpus = torch.cuda.device_count()\n",
    "# Set the device to use only one GPU if multiple GPUs are available\n",
    "if num_gpus > 1:\n",
    "    device = torch.device('cuda:0')  # Set the device to use the first GPU\n",
    "else:\n",
    "    device = torch.device('cuda' if torch.cuda.is_available() else 'cpu')\n",
    "\n",
    "num_gpus, device"
   ]
  },
  {
   "cell_type": "code",
   "execution_count": 3,
   "metadata": {},
   "outputs": [
    {
     "name": "stdout",
     "output_type": "stream",
     "text": [
      "ABC=1/2/3 trainning\n"
     ]
    },
    {
     "name": "stderr",
     "output_type": "stream",
     "text": [
      "c:\\Users\\enomazosii\\miniconda3\\envs\\torch\\lib\\site-packages\\torch\\optim\\lr_scheduler.py:28: UserWarning: The verbose parameter is deprecated. Please use get_last_lr() to access the learning rate.\n",
      "  warnings.warn(\"The verbose parameter is deprecated. Please use get_last_lr() \"\n"
     ]
    },
    {
     "name": "stdout",
     "output_type": "stream",
     "text": [
      "Epoch 50, MSE: 0.2121303230524063\n",
      "ABC=1/2/7 trainning\n",
      "Epoch 50, MSE: 0.21392406523227692\n",
      "ABC=1/2/11 trainning\n",
      "Epoch 50, MSE: 0.25759607553482056\n",
      "ABC=1/7/3 trainning\n",
      "Epoch 50, MSE: 0.15779541432857513\n",
      "ABC=1/7/7 trainning\n",
      "Epoch 50, MSE: 0.027998559176921844\n",
      "ABC=1/7/11 trainning\n",
      "Epoch 50, MSE: 0.014189918525516987\n",
      "ABC=1/12/3 trainning\n",
      "Epoch 50, MSE: 0.16740237176418304\n",
      "ABC=1/12/7 trainning\n",
      "Epoch 50, MSE: 0.015298852697014809\n",
      "ABC=1/12/11 trainning\n",
      "Epoch 50, MSE: 0.0070142364129424095\n",
      "ABC=7/2/3 trainning\n",
      "Epoch 50, MSE: 10.09585189819336\n",
      "ABC=7/2/7 trainning\n",
      "Epoch 50, MSE: 10.70155143737793\n",
      "ABC=7/2/11 trainning\n",
      "Epoch 50, MSE: 11.97970199584961\n",
      "ABC=7/7/3 trainning\n",
      "Epoch 50, MSE: 7.951879024505615\n",
      "ABC=7/7/7 trainning\n",
      "Epoch 50, MSE: 1.8384878635406494\n",
      "ABC=7/7/11 trainning\n",
      "Epoch 50, MSE: 0.7652912735939026\n",
      "ABC=7/12/3 trainning\n",
      "Epoch 50, MSE: 13.285957336425781\n",
      "ABC=7/12/7 trainning\n",
      "Epoch 50, MSE: 0.4730110466480255\n",
      "ABC=7/12/11 trainning\n",
      "Epoch 50, MSE: 0.6972060799598694\n",
      "ABC=13/2/3 trainning\n",
      "Epoch 50, MSE: 41.00889205932617\n",
      "ABC=13/2/7 trainning\n",
      "Epoch 50, MSE: 36.73912048339844\n",
      "ABC=13/2/11 trainning\n",
      "Epoch 50, MSE: 37.122642517089844\n",
      "ABC=13/7/3 trainning\n",
      "Epoch 50, MSE: 24.17623519897461\n",
      "ABC=13/7/7 trainning\n",
      "Epoch 50, MSE: 4.117272853851318\n",
      "ABC=13/7/11 trainning\n",
      "Epoch 50, MSE: 3.747124671936035\n",
      "ABC=13/12/3 trainning\n",
      "Epoch 50, MSE: 28.0565242767334\n",
      "ABC=13/12/7 trainning\n",
      "Epoch 50, MSE: 1.1251742839813232\n",
      "ABC=13/12/11 trainning\n",
      "Epoch 50, MSE: 1.6941810846328735\n"
     ]
    }
   ],
   "source": [
    "# 실험 결과를 저장할 리스트\n",
    "results = []\n",
    "\n",
    "for A, B, C in experiments:\n",
    "    # 디렉토리 이름 생성\n",
    "    save_directory = os.path.join(\"./DOE_RESULTS\", f\"TEST_Trigono_{A},{B},{C}_MSE-1\")\n",
    "    # 모델 생성 및 훈련\n",
    "    print(f'ABC={A}/{B}/{C} trainning')\n",
    "                \n",
    "    pinn = PINNModel(A=A, B=B, C=C, epochs=51, model_path=\"\", save_directory=save_directory, device=device)\n",
    "    pinn.train()\n",
    "\n",
    "    # 50 에포크에서의 total loss 및 평균 loss 기록\n",
    "    initial_loss = pinn.loss_history[0]  # 0 에포크에서의 손실\n",
    "    total_loss_at_50 = pinn.loss_history[49]\n",
    "    avg_loss_0_50 = sum(pinn.loss_history[:50]) / 50\n",
    "    results.append({\"A\": A, \"B\": B, \"C\": C, \"Initial Total Loss\": initial_loss, \"Total Loss at 50\": total_loss_at_50, \"Avg Loss 0-50\": avg_loss_0_50})\n",
    "\n",
    "# 결과를 데이터프레임으로 변환\n",
    "df_results = pd.DataFrame(results)\n",
    "\n",
    "# 데이터프레임을 CSV 파일로 저장\n",
    "df_results.to_csv(\"experiment_results_newABC.csv\", index=False)"
   ]
  },
  {
   "cell_type": "code",
   "execution_count": 4,
   "metadata": {},
   "outputs": [],
   "source": [
    "if len(pinn.loss_history) > 50:\n",
    "    total_loss_at_50 = pinn.loss_history[50]\n",
    "    avg_loss_0_50 = sum(pinn.loss_history[:51]) / 51\n",
    "    # 결과 저장 로직\n",
    "else:\n",
    "    print(\"Not enough data in loss history\")"
   ]
  },
  {
   "cell_type": "code",
   "execution_count": 5,
   "metadata": {},
   "outputs": [
    {
     "name": "stdout",
     "output_type": "stream",
     "text": [
      "51\n"
     ]
    }
   ],
   "source": [
    "print(len(pinn.loss_history))"
   ]
  },
  {
   "cell_type": "code",
   "execution_count": 6,
   "metadata": {},
   "outputs": [
    {
     "data": {
      "text/plain": [
       "2.015832158923149"
      ]
     },
     "execution_count": 6,
     "metadata": {},
     "output_type": "execute_result"
    }
   ],
   "source": [
    "total_loss_at_50"
   ]
  },
  {
   "cell_type": "code",
   "execution_count": 7,
   "metadata": {},
   "outputs": [
    {
     "data": {
      "text/plain": [
       "9.714208417940045"
      ]
     },
     "execution_count": 7,
     "metadata": {},
     "output_type": "execute_result"
    }
   ],
   "source": [
    "avg_loss_0_50"
   ]
  },
  {
   "cell_type": "code",
   "execution_count": null,
   "metadata": {},
   "outputs": [],
   "source": []
  }
 ],
 "metadata": {
  "kernelspec": {
   "display_name": "Python 3",
   "language": "python",
   "name": "python3"
  },
  "language_info": {
   "codemirror_mode": {
    "name": "ipython",
    "version": 3
   },
   "file_extension": ".py",
   "mimetype": "text/x-python",
   "name": "python",
   "nbconvert_exporter": "python",
   "pygments_lexer": "ipython3",
   "version": "3.9.19"
  },
  "orig_nbformat": 4,
  "vscode": {
   "interpreter": {
    "hash": "916dbcbb3f70747c44a77c7bcd40155683ae19c65e1c03b4aa3499c5328201f1"
   }
  }
 },
 "nbformat": 4,
 "nbformat_minor": 2
}
