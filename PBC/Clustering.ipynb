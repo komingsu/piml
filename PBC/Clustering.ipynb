{
 "cells": [
  {
   "cell_type": "code",
   "execution_count": 33,
   "metadata": {},
   "outputs": [],
   "source": [
    "import pandas as pd\n",
    "import numpy as np\n",
    "import matplotlib.pyplot as plt\n",
    "import seaborn as sns\n",
    "from sklearn.gaussian_process.kernels import RBF, ConstantKernel as C\n",
    "from sklearn.cluster import KMeans\n",
    "from sklearn.mixture import GaussianMixture\n",
    "from sklearn.preprocessing import StandardScaler\n",
    "from sklearn.datasets import make_blobs\n",
    "from sklearn.metrics import silhouette_score, davies_bouldin_score, calinski_harabasz_score, adjusted_rand_score"
   ]
  },
  {
   "cell_type": "code",
   "execution_count": 28,
   "metadata": {},
   "outputs": [],
   "source": [
    "data = pd.read_csv(\"./data/experiment_results.csv\")\n",
    "data_scaled = pd.read_csv(\"./data/experiment_results_scaled.csv\")"
   ]
  },
  {
   "cell_type": "code",
   "execution_count": 51,
   "metadata": {},
   "outputs": [
    {
     "name": "stderr",
     "output_type": "stream",
     "text": [
      "c:\\Users\\enomazosii\\miniconda3\\envs\\torch\\lib\\site-packages\\sklearn\\cluster\\_kmeans.py:1412: FutureWarning: The default value of `n_init` will change from 10 to 'auto' in 1.4. Set the value of `n_init` explicitly to suppress the warning\n",
      "  super()._check_params_vs_input(X, default_n_init=10)\n",
      "c:\\Users\\enomazosii\\miniconda3\\envs\\torch\\lib\\site-packages\\sklearn\\cluster\\_kmeans.py:1436: UserWarning: KMeans is known to have a memory leak on Windows with MKL, when there are less chunks than available threads. You can avoid it by setting the environment variable OMP_NUM_THREADS=1.\n",
      "  warnings.warn(\n"
     ]
    },
    {
     "name": "stdout",
     "output_type": "stream",
     "text": [
      "Silhouette Score for standard K-means: 0.54<br>dbi_standard for standard K-means: 0.59<br>chi_standard for standard K-means: 85.46\n"
     ]
    }
   ],
   "source": [
    "# 데이터 생성\n",
    "X = data.to_numpy()\n",
    "\n",
    "# 표준 K-means 클러스터링\n",
    "kmeans_standard = KMeans(n_clusters=3, random_state=42)\n",
    "kmeans_standard.fit(X)\n",
    "standard_labels = kmeans_standard.labels_\n",
    "standard_score = silhouette_score(X, standard_labels)\n",
    "dbi_standard = davies_bouldin_score(X, standard_labels)\n",
    "chi_standard = calinski_harabasz_score(X, standard_labels)\n",
    "\n",
    "print(f\"Silhouette Score for standard K-means: {standard_score:.2f}<br>dbi_standard for standard K-means: {dbi_standard:.2f}<br>chi_standard for standard K-means: {chi_standard:.2f}\")"
   ]
  },
  {
   "cell_type": "code",
   "execution_count": 52,
   "metadata": {},
   "outputs": [
    {
     "name": "stderr",
     "output_type": "stream",
     "text": [
      "c:\\Users\\enomazosii\\miniconda3\\envs\\torch\\lib\\site-packages\\sklearn\\cluster\\_kmeans.py:1412: FutureWarning: The default value of `n_init` will change from 10 to 'auto' in 1.4. Set the value of `n_init` explicitly to suppress the warning\n",
      "  super()._check_params_vs_input(X, default_n_init=10)\n",
      "c:\\Users\\enomazosii\\miniconda3\\envs\\torch\\lib\\site-packages\\sklearn\\cluster\\_kmeans.py:1436: UserWarning: KMeans is known to have a memory leak on Windows with MKL, when there are less chunks than available threads. You can avoid it by setting the environment variable OMP_NUM_THREADS=1.\n",
      "  warnings.warn(\n"
     ]
    },
    {
     "name": "stdout",
     "output_type": "stream",
     "text": [
      "Silhouette Score for standard K-means: 0.54<br>dbi_standard for standard K-means: 0.59<br>chi_standard for standard K-means: 85.46\n"
     ]
    }
   ],
   "source": [
    "# 각 특성의 분산 계산\n",
    "variances = np.var(X, axis=0)\n",
    "\n",
    "# 분산의 역수를 가중치로 사용\n",
    "weights = 1 / variances\n",
    "\n",
    "# 데이터에 가중치 적용\n",
    "X_weighted = X * np.sqrt(weights)\n",
    "\n",
    "# 가중치 적용 K-means 클러스터링\n",
    "kmeans_weighted = KMeans(n_clusters=3, random_state=42)\n",
    "kmeans_weighted.fit(X_weighted)\n",
    "weighted_labels = kmeans_weighted.labels_\n",
    "standard_score = silhouette_score(X, standard_labels)\n",
    "dbi_standard = davies_bouldin_score(X, standard_labels)\n",
    "chi_standard = calinski_harabasz_score(X, standard_labels)\n",
    "\n",
    "print(f\"Silhouette Score for standard K-means: {standard_score:.2f}<br>dbi_standard for standard K-means: {dbi_standard:.2f}<br>chi_standard for standard K-means: {chi_standard:.2f}\")"
   ]
  },
  {
   "cell_type": "code",
   "execution_count": 53,
   "metadata": {},
   "outputs": [
    {
     "name": "stderr",
     "output_type": "stream",
     "text": [
      "c:\\Users\\enomazosii\\miniconda3\\envs\\torch\\lib\\site-packages\\sklearn\\cluster\\_kmeans.py:1412: FutureWarning: The default value of `n_init` will change from 10 to 'auto' in 1.4. Set the value of `n_init` explicitly to suppress the warning\n",
      "  super()._check_params_vs_input(X, default_n_init=10)\n",
      "c:\\Users\\enomazosii\\miniconda3\\envs\\torch\\lib\\site-packages\\sklearn\\cluster\\_kmeans.py:1436: UserWarning: KMeans is known to have a memory leak on Windows with MKL, when there are less chunks than available threads. You can avoid it by setting the environment variable OMP_NUM_THREADS=1.\n",
      "  warnings.warn(\n"
     ]
    },
    {
     "name": "stdout",
     "output_type": "stream",
     "text": [
      "Silhouette Score for standard K-means: 0.38<br>dbi_standard for standard K-means: 0.94<br>chi_standard for standard K-means: 23.24\n"
     ]
    }
   ],
   "source": [
    "# 데이터 생성\n",
    "X = data_scaled.to_numpy()\n",
    "\n",
    "# 표준 K-means 클러스터링\n",
    "kmeans_standard = KMeans(n_clusters=3, random_state=42)\n",
    "kmeans_standard.fit(X)\n",
    "standard_labels = kmeans_standard.labels_\n",
    "standard_score = silhouette_score(X, standard_labels)\n",
    "dbi_standard = davies_bouldin_score(X, standard_labels)\n",
    "chi_standard = calinski_harabasz_score(X, standard_labels)\n",
    "\n",
    "print(f\"Silhouette Score for standard K-means: {standard_score:.2f}<br>dbi_standard for standard K-means: {dbi_standard:.2f}<br>chi_standard for standard K-means: {chi_standard:.2f}\")"
   ]
  },
  {
   "cell_type": "code",
   "execution_count": 54,
   "metadata": {},
   "outputs": [
    {
     "name": "stderr",
     "output_type": "stream",
     "text": [
      "c:\\Users\\enomazosii\\miniconda3\\envs\\torch\\lib\\site-packages\\sklearn\\cluster\\_kmeans.py:1412: FutureWarning: The default value of `n_init` will change from 10 to 'auto' in 1.4. Set the value of `n_init` explicitly to suppress the warning\n",
      "  super()._check_params_vs_input(X, default_n_init=10)\n",
      "c:\\Users\\enomazosii\\miniconda3\\envs\\torch\\lib\\site-packages\\sklearn\\cluster\\_kmeans.py:1436: UserWarning: KMeans is known to have a memory leak on Windows with MKL, when there are less chunks than available threads. You can avoid it by setting the environment variable OMP_NUM_THREADS=1.\n",
      "  warnings.warn(\n"
     ]
    },
    {
     "name": "stdout",
     "output_type": "stream",
     "text": [
      "Silhouette Score for standard K-means: 0.38<br>dbi_standard for standard K-means: 0.94<br>chi_standard for standard K-means: 23.24\n"
     ]
    }
   ],
   "source": [
    "# 각 특성의 분산 계산\n",
    "variances = np.var(X, axis=0)\n",
    "\n",
    "# 분산의 역수를 가중치로 사용\n",
    "weights = 1 / variances\n",
    "\n",
    "# 데이터에 가중치 적용\n",
    "X_weighted = X * np.sqrt(weights)\n",
    "\n",
    "# 가중치 적용 K-means 클러스터링\n",
    "kmeans_weighted = KMeans(n_clusters=3, random_state=42)\n",
    "kmeans_weighted.fit(X_weighted)\n",
    "weighted_labels = kmeans_weighted.labels_\n",
    "standard_score = silhouette_score(X, standard_labels)\n",
    "dbi_standard = davies_bouldin_score(X, standard_labels)\n",
    "chi_standard = calinski_harabasz_score(X, standard_labels)\n",
    "\n",
    "print(f\"Silhouette Score for standard K-means: {standard_score:.2f}<br>dbi_standard for standard K-means: {dbi_standard:.2f}<br>chi_standard for standard K-means: {chi_standard:.2f}\")"
   ]
  },
  {
   "cell_type": "code",
   "execution_count": 55,
   "metadata": {},
   "outputs": [
    {
     "name": "stdout",
     "output_type": "stream",
     "text": [
      "Silhouette Score for standard K-means: 0.57<br>dbi_standard for standard K-means: 0.65<br>chi_standard for standard K-means: 85.02\n"
     ]
    },
    {
     "name": "stderr",
     "output_type": "stream",
     "text": [
      "c:\\Users\\enomazosii\\miniconda3\\envs\\torch\\lib\\site-packages\\sklearn\\cluster\\_kmeans.py:1436: UserWarning: KMeans is known to have a memory leak on Windows with MKL, when there are less chunks than available threads. You can avoid it by setting the environment variable OMP_NUM_THREADS=1.\n",
      "  warnings.warn(\n"
     ]
    }
   ],
   "source": [
    "# 데이터 생성\n",
    "X = data.to_numpy()\n",
    "\n",
    "# Gaussian Mixture Model 클러스터링\n",
    "gmm = GaussianMixture(n_components=3, random_state=42, covariance_type='full')\n",
    "gmm.fit(X)\n",
    "gmm_labels = gmm.predict(X)\n",
    "\n",
    "\n",
    "standard_score = silhouette_score(X, gmm_labels)\n",
    "dbi_standard = davies_bouldin_score(X, gmm_labels)\n",
    "chi_standard = calinski_harabasz_score(X, gmm_labels)\n",
    "\n",
    "print(f\"Silhouette Score for standard K-means: {standard_score:.2f}<br>dbi_standard for standard K-means: {dbi_standard:.2f}<br>chi_standard for standard K-means: {chi_standard:.2f}\")"
   ]
  },
  {
   "cell_type": "code",
   "execution_count": 57,
   "metadata": {},
   "outputs": [
    {
     "name": "stdout",
     "output_type": "stream",
     "text": [
      "Silhouette Score for standard K-means: 0.38<br>dbi_standard for standard K-means: 0.94<br>chi_standard for standard K-means: 23.24\n"
     ]
    },
    {
     "name": "stderr",
     "output_type": "stream",
     "text": [
      "c:\\Users\\enomazosii\\miniconda3\\envs\\torch\\lib\\site-packages\\sklearn\\cluster\\_kmeans.py:1436: UserWarning: KMeans is known to have a memory leak on Windows with MKL, when there are less chunks than available threads. You can avoid it by setting the environment variable OMP_NUM_THREADS=1.\n",
      "  warnings.warn(\n"
     ]
    }
   ],
   "source": [
    "# 데이터 생성\n",
    "X = data_scaled.to_numpy()\n",
    "\n",
    "# Gaussian Mixture Model 클러스터링\n",
    "gmm = GaussianMixture(n_components=3, random_state=42, covariance_type='diag')\n",
    "gmm.fit(X)\n",
    "gmm_labels = gmm.predict(X)\n",
    "\n",
    "\n",
    "standard_score = silhouette_score(X, gmm_labels)\n",
    "dbi_standard = davies_bouldin_score(X, gmm_labels)\n",
    "chi_standard = calinski_harabasz_score(X, gmm_labels)\n",
    "\n",
    "print(f\"Silhouette Score for standard K-means: {standard_score:.2f}<br>dbi_standard for standard K-means: {dbi_standard:.2f}<br>chi_standard for standard K-means: {chi_standard:.2f}\")"
   ]
  },
  {
   "cell_type": "markdown",
   "metadata": {},
   "source": [
    "||\"k-means\"|\"k-means weighted\"|\"GMM\"|\n",
    "|--|--|--|--|\n",
    "|data|Silhouette Score for standard K-means: 0.54<br>dbi_standard for standard K-means: 0.59<br>chi_standard for standard K-means: 85.46|Silhouette Score for standard K-means: 0.54<br>dbi_standard for standard K-means: 0.59<br>chi_standard for standard K-means: 85.46|Silhouette Score for standard K-means: 0.57<br>dbi_standard for standard K-means: 0.65<br>chi_standard for standard K-means: 85.02|\n",
    "|scaled data|Silhouette Score for standard K-means: 0.38<br>dbi_standard for standard K-means: 0.94<br>chi_standard for standard K-means: 23.24|Silhouette Score for standard K-means: 0.38<br>dbi_standard for standard K-means: 0.94<br>chi_standard for standard K-means: 23.24|Silhouette Score for standard K-means: 0.38<br>dbi_standard for standard K-means: 0.94<br>chi_standard for standard K-means: 23.24|"
   ]
  },
  {
   "cell_type": "markdown",
   "metadata": {},
   "source": []
  }
 ],
 "metadata": {
  "kernelspec": {
   "display_name": "torch",
   "language": "python",
   "name": "python3"
  },
  "language_info": {
   "codemirror_mode": {
    "name": "ipython",
    "version": 3
   },
   "file_extension": ".py",
   "mimetype": "text/x-python",
   "name": "python",
   "nbconvert_exporter": "python",
   "pygments_lexer": "ipython3",
   "version": "3.9.19"
  }
 },
 "nbformat": 4,
 "nbformat_minor": 2
}
